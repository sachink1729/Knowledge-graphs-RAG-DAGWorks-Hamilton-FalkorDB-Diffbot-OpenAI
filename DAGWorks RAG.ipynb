{
 "cells": [
  {
   "cell_type": "markdown",
   "id": "b6f394a3-5cf5-4329-a65c-f22a0035efe9",
   "metadata": {},
   "source": [
    "# Dagworks\n",
    "\n"
   ]
  },
  {
   "cell_type": "code",
   "execution_count": null,
   "id": "d8234a60-11f7-4e88-89f8-a6c27a08fe52",
   "metadata": {},
   "outputs": [],
   "source": [
    "from hamilton import driver\n",
    "import my_dag"
   ]
  },
  {
   "cell_type": "code",
   "execution_count": null,
   "id": "2bfe07a1-ccd3-43de-a773-4c8543373460",
   "metadata": {},
   "outputs": [],
   "source": [
    "dr = driver.Builder().with_modules(my_dag).build()"
   ]
  },
  {
   "cell_type": "code",
   "execution_count": null,
   "id": "5e78fd71-f076-4289-9071-c196b45337a8",
   "metadata": {},
   "outputs": [],
   "source": [
    "# dr.display_all_functions(\"dag.png\")  # outputs a file dag.png\n",
    "dr.display_all_functions()"
   ]
  },
  {
   "cell_type": "code",
   "execution_count": null,
   "id": "86580fc7-8bd2-4002-9b27-544994501071",
   "metadata": {},
   "outputs": [],
   "source": [
    "dr.execute(final_vars=['get_response_from_openai'],display_graph=True)"
   ]
  },
  {
   "cell_type": "code",
   "execution_count": null,
   "id": "cf439d21-93d2-4c94-b6c9-3fd98fc3dc47",
   "metadata": {},
   "outputs": [],
   "source": [
    "dr.visualize_execution(final_vars=['get_response_from_openai'])"
   ]
  },
  {
   "cell_type": "code",
   "execution_count": null,
   "id": "1b2ca33a-f1d0-40a9-94c4-b5fb77293bac",
   "metadata": {},
   "outputs": [],
   "source": []
  }
 ],
 "metadata": {
  "kernelspec": {
   "display_name": "Python 3 (ipykernel)",
   "language": "python",
   "name": "python3"
  },
  "language_info": {
   "codemirror_mode": {
    "name": "ipython",
    "version": 3
   },
   "file_extension": ".py",
   "mimetype": "text/x-python",
   "name": "python",
   "nbconvert_exporter": "python",
   "pygments_lexer": "ipython3",
   "version": "3.10.13"
  }
 },
 "nbformat": 4,
 "nbformat_minor": 5
}
